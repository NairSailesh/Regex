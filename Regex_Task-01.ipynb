{
 "cells": [
  {
   "cell_type": "markdown",
   "id": "ed9d5d5a",
   "metadata": {},
   "source": [
    "###Task01\n",
    "\n",
    "#ID: SIRSS1040\n",
    "\n",
    "#Name: Sailesh Nair\n"
   ]
  },
  {
   "cell_type": "raw",
   "id": "c267f026",
   "metadata": {},
   "source": [
    "1.\n",
    "5 5 5 5 5  \n",
    "5 5 5 5  \n",
    "5 5 5  \n",
    "5 5  \n",
    "5"
   ]
  },
  {
   "cell_type": "code",
   "execution_count": 1,
   "id": "afcef520",
   "metadata": {},
   "outputs": [
    {
     "name": "stdout",
     "output_type": "stream",
     "text": [
      "5 5 5 5 5 \n",
      "5 5 5 5 \n",
      "5 5 5 \n",
      "5 5 \n",
      "5 \n"
     ]
    }
   ],
   "source": [
    "for num in range (5,0,-1):\n",
    "    print('5 '*num)"
   ]
  },
  {
   "cell_type": "raw",
   "id": "e0ebf089",
   "metadata": {},
   "source": [
    "2. \n",
    "0 1 2 3 4 5  \n",
    "0 1 2 3 4  \n",
    "0 1 2 3  \n",
    "0 1 2  \n",
    "0 1"
   ]
  },
  {
   "cell_type": "code",
   "execution_count": 2,
   "id": "387be4db",
   "metadata": {
    "scrolled": true
   },
   "outputs": [
    {
     "name": "stdout",
     "output_type": "stream",
     "text": [
      "0 1 2 3 4 5 \n",
      "0 1 2 3 4 \n",
      "0 1 2 3 \n",
      "0 1 2 \n",
      "0 1 \n"
     ]
    }
   ],
   "source": [
    "for num in range (5,0,-1):\n",
    "    for i in range (0,num+1):\n",
    "        print(i, end= \" \")\n",
    "    print('')"
   ]
  },
  {
   "cell_type": "raw",
   "id": "1f9666b1",
   "metadata": {},
   "source": [
    "3. \n",
    "1 \n",
    "3 3  \n",
    "5 5 5  \n",
    "7 7 7 7  \n",
    "9 9 9 9 9"
   ]
  },
  {
   "cell_type": "code",
   "execution_count": 3,
   "id": "fd27380a",
   "metadata": {},
   "outputs": [
    {
     "name": "stdout",
     "output_type": "stream",
     "text": [
      "1 \n",
      "3 3 \n",
      "5 5 5 \n",
      "7 7 7 7 \n",
      "9 9 9 9 9 \n"
     ]
    }
   ],
   "source": [
    "for num in range (1,6,1):\n",
    "    for i in range (1,num+1):\n",
    "        print(2*num-1, end= \" \")\n",
    "    print('')"
   ]
  },
  {
   "cell_type": "raw",
   "id": "910a27f7",
   "metadata": {},
   "source": [
    "4. \n",
    "1  \n",
    "2 1  \n",
    "3 2 1  \n",
    "4 3 2 1  \n",
    "5 4 3 2 1"
   ]
  },
  {
   "cell_type": "code",
   "execution_count": 4,
   "id": "f1dbbf58",
   "metadata": {},
   "outputs": [
    {
     "name": "stdout",
     "output_type": "stream",
     "text": [
      "\n",
      "1 \n",
      "2 1 \n",
      "3 2 1 \n",
      "4 3 2 1 \n",
      "5 4 3 2 1 \n"
     ]
    }
   ],
   "source": [
    "for num in range (0,6,1):\n",
    "    for i in range (num,0,-1):\n",
    "        print(i, end= \" \")\n",
    "    print('')"
   ]
  },
  {
   "cell_type": "raw",
   "id": "290447c0",
   "metadata": {},
   "source": [
    "5.\n",
    "1 \n",
    "3 2 \n",
    "6 5 4 \n",
    "10 9 8 7"
   ]
  },
  {
   "cell_type": "code",
   "execution_count": 5,
   "id": "b751c532",
   "metadata": {
    "scrolled": true
   },
   "outputs": [
    {
     "name": "stdout",
     "output_type": "stream",
     "text": [
      "1 \n",
      "3 2 \n",
      "6 5 4 \n",
      "10 9 8 7 \n"
     ]
    }
   ],
   "source": [
    "start = 1\n",
    "stop = 2\n",
    "currentNumber = stop\n",
    "for row in range(2, 6):\n",
    "    for col in range(start, stop):\n",
    "        currentNumber -= 1\n",
    "        print(currentNumber, end=' ')\n",
    "    print('')\n",
    "    start = stop\n",
    "    stop += row\n",
    "    currentNumber = stop"
   ]
  },
  {
   "cell_type": "raw",
   "id": "31961b17",
   "metadata": {},
   "source": [
    "6. \n",
    "1  \n",
    "1 1  \n",
    "1 2 1  \n",
    "1 3 3 1  \n",
    "1 4 6 4 1  \n",
    "1 5 10 10 5 1  \n",
    "1 6 15 20 15 6 1"
   ]
  },
  {
   "cell_type": "code",
   "execution_count": 6,
   "id": "9aecd1ee",
   "metadata": {},
   "outputs": [
    {
     "name": "stdout",
     "output_type": "stream",
     "text": [
      "1 \n",
      "1 1 \n",
      "1 2 1 \n",
      "1 3 3 1 \n",
      "1 4 6 4 1 \n",
      "1 5 10 10 5 1 \n",
      "1 6 15 20 15 6 1 \n"
     ]
    }
   ],
   "source": [
    "from math import factorial\n",
    "n = 7\n",
    "for i in range(n):\n",
    "    for j in range(i+1):\n",
    "        print(factorial(i)//(factorial(j)*factorial(i-j)), end=\" \")\n",
    "    print()"
   ]
  },
  {
   "cell_type": "raw",
   "id": "756c73c2",
   "metadata": {},
   "source": [
    "7. \n",
    "1 2 3 4 5  \n",
    "2 2 3 4 5  \n",
    "3 3 3 4 5  \n",
    "4 4 4 4 5  \n",
    "5 5 5 5 5"
   ]
  },
  {
   "cell_type": "code",
   "execution_count": 7,
   "id": "cf823dfb",
   "metadata": {
    "scrolled": true
   },
   "outputs": [
    {
     "name": "stdout",
     "output_type": "stream",
     "text": [
      "1 2 3 4 5 \n",
      "2 2 3 4 5 \n",
      "3 3 3 4 5 \n",
      "4 4 4 4 5 \n",
      "5 5 5 5 5 \n"
     ]
    }
   ],
   "source": [
    "n=5\n",
    "for i in range(1, n + 1):  \n",
    "    for j in range(1, n + 1): \n",
    "        if j <= i:  \n",
    "            print(i, end=' ')  \n",
    "        else:  \n",
    "            print(j, end=' ')  \n",
    "    print()  "
   ]
  },
  {
   "cell_type": "raw",
   "id": "379b3fc8",
   "metadata": {},
   "source": [
    "8. \n",
    "1  \n",
    "2 4  \n",
    "3 6 9  \n",
    "4 8 12 16  \n",
    "5 10 15 20 25  \n",
    "6 12 18 24 30 36  \n",
    "7 14 21 28 35 42 49  \n",
    "8 16 24 32 40 48 56 64"
   ]
  },
  {
   "cell_type": "code",
   "execution_count": 8,
   "id": "b2f18fa0",
   "metadata": {},
   "outputs": [
    {
     "name": "stdout",
     "output_type": "stream",
     "text": [
      "1 \n",
      "2 4 \n",
      "3 6 9 \n",
      "4 8 12 16 \n",
      "5 10 15 20 25 \n",
      "6 12 18 24 30 36 \n",
      "7 14 21 28 35 42 49 \n",
      "8 16 24 32 40 48 56 64 \n"
     ]
    }
   ],
   "source": [
    "n=8\n",
    "for i in range(1, n + 1):  \n",
    "    for j in range(1, i+1): \n",
    "        print(j*i,end=' ')\n",
    "    print('')"
   ]
  },
  {
   "cell_type": "raw",
   "id": "c43f69b6",
   "metadata": {},
   "source": [
    "9. \n",
    " * * * * * *  \n",
    " * * * * *  \n",
    " * * * *  \n",
    " * * *  \n",
    " * *  \n",
    " * "
   ]
  },
  {
   "cell_type": "code",
   "execution_count": 9,
   "id": "0c553cee",
   "metadata": {
    "scrolled": true
   },
   "outputs": [
    {
     "name": "stdout",
     "output_type": "stream",
     "text": [
      "* * * * * * \n",
      "* * * * * \n",
      "* * * * \n",
      "* * * \n",
      "* * \n",
      "* \n"
     ]
    }
   ],
   "source": [
    "n=6\n",
    "for num in range (n,0,-1):\n",
    "    print('* '*num)"
   ]
  },
  {
   "cell_type": "raw",
   "id": "f7c9777a",
   "metadata": {},
   "source": [
    "10.\n",
    " *  \n",
    " * *  \n",
    " * * *  \n",
    " * * * *  \n",
    " * * * * *  \n",
    " * * * * * *  \n",
    " * * * * * * * "
   ]
  },
  {
   "cell_type": "code",
   "execution_count": 10,
   "id": "4633991a",
   "metadata": {
    "scrolled": true
   },
   "outputs": [
    {
     "name": "stdout",
     "output_type": "stream",
     "text": [
      "\n",
      "* \n",
      "* * \n",
      "* * * \n",
      "* * * * \n",
      "* * * * * \n",
      "* * * * * * \n",
      "* * * * * * * \n"
     ]
    }
   ],
   "source": [
    "n=7\n",
    "for num in range (n+1):\n",
    "    print('* '*num)"
   ]
  },
  {
   "cell_type": "raw",
   "id": "a75657a1",
   "metadata": {},
   "source": [
    "11. \n",
    "*  \n",
    "* *  \n",
    "* * *  \n",
    "* * * *  \n",
    "* * * * *  \n",
    "* * * * * *  \n",
    "* * * * * *  \n",
    "* * * * *  \n",
    "* * * *  \n",
    "* * *  \n",
    "* *  \n",
    "* "
   ]
  },
  {
   "cell_type": "code",
   "execution_count": 11,
   "id": "fabb3e0f",
   "metadata": {
    "scrolled": true
   },
   "outputs": [
    {
     "name": "stdout",
     "output_type": "stream",
     "text": [
      "\n",
      "* \n",
      "* * \n",
      "* * * \n",
      "* * * * \n",
      "* * * * * \n",
      "* * * * * * \n",
      "* * * * * * \n",
      "* * * * * \n",
      "* * * * \n",
      "* * * \n",
      "* * \n",
      "* \n"
     ]
    }
   ],
   "source": [
    "n=6\n",
    "for num in range (n+1):\n",
    "    print('* '*num)\n",
    "#print('')\n",
    "for num in range (n,0,-1):\n",
    "    print('* '*num)"
   ]
  },
  {
   "cell_type": "raw",
   "id": "61437b41",
   "metadata": {},
   "source": [
    "12. \n",
    "*  \n",
    "* *  \n",
    "* * *  \n",
    "* * * *  \n",
    "* * * * *  \n",
    "* * * *  \n",
    "* * *  \n",
    "* *  \n",
    "* "
   ]
  },
  {
   "cell_type": "code",
   "execution_count": 12,
   "id": "41e4fb01",
   "metadata": {
    "scrolled": true
   },
   "outputs": [
    {
     "name": "stdout",
     "output_type": "stream",
     "text": [
      "\n",
      "* \n",
      "* * \n",
      "* * * \n",
      "* * * * \n",
      "* * * * * \n",
      "* * * * \n",
      "* * * \n",
      "* * \n",
      "* \n"
     ]
    }
   ],
   "source": [
    "n=5\n",
    "for num in range (n):\n",
    "    print('* '*num)\n",
    "for num in range (n,0,-1):\n",
    "    print('* '*num)"
   ]
  },
  {
   "cell_type": "raw",
   "id": "4010a1f9",
   "metadata": {},
   "source": [
    "13. \n",
    " *  \n",
    " * *  \n",
    " * * *  \n",
    " * * * *  \n",
    "* * * * *  \n",
    " * * * *  \n",
    " * * *  \n",
    " * *  \n",
    " * "
   ]
  },
  {
   "cell_type": "code",
   "execution_count": 13,
   "id": "702daeb9",
   "metadata": {},
   "outputs": [
    {
     "name": "stdout",
     "output_type": "stream",
     "text": [
      " *\n",
      " * *\n",
      " * * *\n",
      " * * * *\n",
      "* * * * * \n",
      " * * * *\n",
      " * * *\n",
      " * *\n",
      " *\n"
     ]
    }
   ],
   "source": [
    "n=5\n",
    "for num in range (1,n):\n",
    "    print(' *'*num)\n",
    "print('* '*n)\n",
    "for num in range (n-1,0,-1):\n",
    "    print(' *'*num)"
   ]
  },
  {
   "cell_type": "raw",
   "id": "781b5a59",
   "metadata": {},
   "source": [
    "14.\n",
    "* * * * *  \n",
    "* * * *  \n",
    "* * *  \n",
    "* *  \n",
    "*  \n",
    "*  \n",
    "* *  \n",
    "* * *  \n",
    "* * * *  \n",
    "* * * * * \n",
    "\n"
   ]
  },
  {
   "cell_type": "code",
   "execution_count": 14,
   "id": "907b9d0e",
   "metadata": {
    "scrolled": true
   },
   "outputs": [
    {
     "name": "stdout",
     "output_type": "stream",
     "text": [
      "* * * * * \n",
      "* * * * \n",
      "* * * \n",
      "* * \n",
      "* \n",
      "* \n",
      "* * \n",
      "* * * \n",
      "* * * * \n",
      "* * * * * \n"
     ]
    }
   ],
   "source": [
    "n=5\n",
    "for num in range (n,0,-1):\n",
    "    print('* '*num)\n",
    "for num in range (1,n+1):\n",
    "    print('* '*num)"
   ]
  },
  {
   "cell_type": "raw",
   "id": "672f993f",
   "metadata": {},
   "source": [
    "15.\n",
    "**************** \n",
    "*******__******* \n",
    "******____****** \n",
    "*****______***** \n",
    "****________**** \n",
    "***__________*** \n",
    "**____________** \n",
    "*______________*\n"
   ]
  },
  {
   "cell_type": "code",
   "execution_count": 15,
   "id": "f77b219e",
   "metadata": {},
   "outputs": [
    {
     "name": "stdout",
     "output_type": "stream",
     "text": [
      "****************\n",
      "*******__*******\n",
      "******____******\n",
      "*****______*****\n",
      "****________****\n",
      "***__________***\n",
      "**____________**\n",
      "*______________*\n",
      "\n"
     ]
    }
   ],
   "source": [
    "n=8\n",
    "for i in range(n,0,-1):\n",
    "    print('*'*i, end ='')\n",
    "    j=n-i\n",
    "    print('_'*j*2, end ='')\n",
    "    print('*'*i)\n",
    "print('')"
   ]
  }
 ],
 "metadata": {
  "kernelspec": {
   "display_name": "Python 3",
   "language": "python",
   "name": "python3"
  },
  "language_info": {
   "codemirror_mode": {
    "name": "ipython",
    "version": 3
   },
   "file_extension": ".py",
   "mimetype": "text/x-python",
   "name": "python",
   "nbconvert_exporter": "python",
   "pygments_lexer": "ipython3",
   "version": "3.8.8"
  }
 },
 "nbformat": 4,
 "nbformat_minor": 5
}
