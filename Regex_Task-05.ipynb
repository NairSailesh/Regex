{
 "cells": [
  {
   "cell_type": "markdown",
   "id": "0d79c6a4",
   "metadata": {},
   "source": [
    "Assignment 5"
   ]
  },
  {
   "cell_type": "markdown",
   "id": "7664469b",
   "metadata": {},
   "source": [
    "ID: SIRSS1040 \\\n",
    "    Name: Sailesh Nair"
   ]
  },
  {
   "cell_type": "code",
   "execution_count": 1,
   "id": "511dd85c",
   "metadata": {},
   "outputs": [],
   "source": [
    "# IMPORTS\n",
    "from math import sqrt\n",
    "import numpy as np"
   ]
  },
  {
   "cell_type": "markdown",
   "id": "d6c86ba1",
   "metadata": {},
   "source": [
    "Q1. Given a list of integers, write a function to return the sum of all prime numbers in that\n",
    "list.\n"
   ]
  },
  {
   "cell_type": "code",
   "execution_count": 2,
   "id": "75ed8051",
   "metadata": {},
   "outputs": [],
   "source": [
    "def isPrime(num):\n",
    "    if num ==0 or num== 1:  \n",
    "        return False   \n",
    "    else:\n",
    "        for i in range(2,int(sqrt(num))+1):  \n",
    "            if num % i == 0:  \n",
    "                return False  \n",
    "        return True"
   ]
  },
  {
   "cell_type": "code",
   "execution_count": 3,
   "id": "8f40c286",
   "metadata": {},
   "outputs": [],
   "source": [
    "def primeSum(listOfNum):\n",
    "    sumOfPrime = 0\n",
    "    for num in listOfNum:\n",
    "        if isPrime(num):\n",
    "            sumOfPrime =sumOfPrime + num\n",
    "    return sumOfPrime    "
   ]
  },
  {
   "cell_type": "code",
   "execution_count": 4,
   "id": "8606b86b",
   "metadata": {},
   "outputs": [
    {
     "name": "stdout",
     "output_type": "stream",
     "text": [
      "Sum of all prime numbers: 24\n"
     ]
    }
   ],
   "source": [
    "list1 = [10, 11, 12, 13, 14, 15]\n",
    "print(\"Sum of all prime numbers:\", primeSum(list1))"
   ]
  },
  {
   "cell_type": "markdown",
   "id": "80a562b4",
   "metadata": {},
   "source": [
    "Q2. Given a list of integers, write a function to check whether the list is strictly increasing or not."
   ]
  },
  {
   "cell_type": "code",
   "execution_count": 5,
   "id": "a2f47475",
   "metadata": {},
   "outputs": [
    {
     "name": "stdout",
     "output_type": "stream",
     "text": [
      "Original list : [10, 11, 12, 13, 14, 15]\n",
      "List strictly increasing ? :  True\n"
     ]
    }
   ],
   "source": [
    "print (\"Original list : \" + str(list1))\n",
    "def strictlyIncreasing(listOfNum):\n",
    "    if (all (n1 < n2 for n1,n2 in zip(listOfNum, listOfNum[1:]))):\n",
    "        return True\n",
    "    else:\n",
    "        return False\n",
    "    \n",
    "print (\"List strictly increasing ? : \" ,strictlyIncreasing(list1))"
   ]
  },
  {
   "cell_type": "code",
   "execution_count": 6,
   "id": "f389919c",
   "metadata": {},
   "outputs": [],
   "source": [
    "list2 = [10, 11, 22, 13, 14, 15]"
   ]
  },
  {
   "cell_type": "code",
   "execution_count": 7,
   "id": "7831463c",
   "metadata": {},
   "outputs": [
    {
     "name": "stdout",
     "output_type": "stream",
     "text": [
      "List strictly increasing ? :  False\n"
     ]
    }
   ],
   "source": [
    "print (\"List strictly increasing ? : \" ,strictlyIncreasing(list2))"
   ]
  },
  {
   "cell_type": "markdown",
   "id": "df18e234",
   "metadata": {},
   "source": [
    "Q3. Write a function to check whether a given list is expanding or not (the difference\n",
    "between adjacent elements should keep on increasing)."
   ]
  },
  {
   "cell_type": "code",
   "execution_count": 8,
   "id": "84eb12e4",
   "metadata": {},
   "outputs": [],
   "source": [
    "def expanding(l):\n",
    "    print (\"Original list : \" + str(l))\n",
    "    if isinstance(l, list):\n",
    "        l = np.array(l)\n",
    "    return (np.diff(abs(l[1:] - l[:-1])) > 0).all()\n",
    "\n"
   ]
  },
  {
   "cell_type": "code",
   "execution_count": 9,
   "id": "af373186",
   "metadata": {},
   "outputs": [
    {
     "name": "stdout",
     "output_type": "stream",
     "text": [
      "Original list : [10, 11, 12, 13, 14, 15]\n"
     ]
    },
    {
     "data": {
      "text/plain": [
       "False"
      ]
     },
     "execution_count": 9,
     "metadata": {},
     "output_type": "execute_result"
    }
   ],
   "source": [
    "expanding(list1)"
   ]
  },
  {
   "cell_type": "code",
   "execution_count": 10,
   "id": "202f0174",
   "metadata": {},
   "outputs": [
    {
     "name": "stdout",
     "output_type": "stream",
     "text": [
      "Original list : [10, 11, 22, 13, 14, 15]\n"
     ]
    },
    {
     "data": {
      "text/plain": [
       "False"
      ]
     },
     "execution_count": 10,
     "metadata": {},
     "output_type": "execute_result"
    }
   ],
   "source": [
    "expanding(list2)"
   ]
  },
  {
   "cell_type": "code",
   "execution_count": 11,
   "id": "36354146",
   "metadata": {},
   "outputs": [
    {
     "name": "stdout",
     "output_type": "stream",
     "text": [
      "Original list : [1, 3, 6, 10, 15, 22]\n"
     ]
    },
    {
     "data": {
      "text/plain": [
       "True"
      ]
     },
     "execution_count": 11,
     "metadata": {},
     "output_type": "execute_result"
    }
   ],
   "source": [
    "list3=[1,3,6,10,15,22]\n",
    "expanding(list3)"
   ]
  },
  {
   "cell_type": "markdown",
   "id": "3ff595c6",
   "metadata": {},
   "source": [
    "Q4. Write a function to calculate all permutations of a given string. (Without using itertools)"
   ]
  },
  {
   "cell_type": "code",
   "execution_count": 12,
   "id": "d0ceb248",
   "metadata": {},
   "outputs": [],
   "source": [
    "def permutate(string,pos):\n",
    "    if pos == len(string):\n",
    "        print (\"\".join(string))\n",
    "    for i in range(pos, len(string)):\n",
    "        temp = [char for char in string]\n",
    "        temp[pos], temp[i] = temp[i], temp[pos]\n",
    "        permutate(temp, pos + 1)"
   ]
  },
  {
   "cell_type": "code",
   "execution_count": 13,
   "id": "d9bc392c",
   "metadata": {},
   "outputs": [
    {
     "name": "stdout",
     "output_type": "stream",
     "text": [
      "TEA\n",
      "TAE\n",
      "ETA\n",
      "EAT\n",
      "AET\n",
      "ATE\n"
     ]
    }
   ],
   "source": [
    "permutate('TEA',0)"
   ]
  },
  {
   "cell_type": "code",
   "execution_count": null,
   "id": "5082c740",
   "metadata": {},
   "outputs": [],
   "source": []
  }
 ],
 "metadata": {
  "kernelspec": {
   "display_name": "Python 3",
   "language": "python",
   "name": "python3"
  },
  "language_info": {
   "codemirror_mode": {
    "name": "ipython",
    "version": 3
   },
   "file_extension": ".py",
   "mimetype": "text/x-python",
   "name": "python",
   "nbconvert_exporter": "python",
   "pygments_lexer": "ipython3",
   "version": "3.8.8"
  }
 },
 "nbformat": 4,
 "nbformat_minor": 5
}
