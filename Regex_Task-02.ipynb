{
 "cells": [
  {
   "cell_type": "markdown",
   "id": "d104553c",
   "metadata": {},
   "source": [
    "# Assignment 2"
   ]
  },
  {
   "cell_type": "markdown",
   "id": "7e7da73f",
   "metadata": {},
   "source": [
    "## ID: SIRSS1040"
   ]
  },
  {
   "cell_type": "markdown",
   "id": "f448161a",
   "metadata": {},
   "source": [
    "### Name: Sailesh Nair"
   ]
  },
  {
   "cell_type": "markdown",
   "id": "cd76e5fb",
   "metadata": {},
   "source": [
    "Q1. Write a lambda expression to extract first word of a string. "
   ]
  },
  {
   "cell_type": "code",
   "execution_count": 1,
   "id": "0e053f39",
   "metadata": {},
   "outputs": [
    {
     "data": {
      "text/plain": [
       "'Write'"
      ]
     },
     "execution_count": 1,
     "metadata": {},
     "output_type": "execute_result"
    }
   ],
   "source": [
    "s= 'Write a lambda expression to extract first word of a string. '\n",
    "ext_first= lambda x: x.split()[0].strip()\n",
    "ext_first(s)"
   ]
  },
  {
   "cell_type": "markdown",
   "id": "0687322e",
   "metadata": {},
   "source": [
    "Q2. Write a function to extract first word of s string (with many words separated by space)."
   ]
  },
  {
   "cell_type": "code",
   "execution_count": 2,
   "id": "ff4a8dc7",
   "metadata": {},
   "outputs": [
    {
     "data": {
      "text/plain": [
       "'Write'"
      ]
     },
     "execution_count": 2,
     "metadata": {},
     "output_type": "execute_result"
    }
   ],
   "source": [
    "a='Write a function to extract first word of s string (with many words separated by space)'\n",
    "def splitter(s):\n",
    "    return s.split()[0]\n",
    "splitter(a)"
   ]
  },
  {
   "cell_type": "markdown",
   "id": "4e580302",
   "metadata": {},
   "source": [
    "Q3. Extract the first word from every string from a list of strings by using map function."
   ]
  },
  {
   "cell_type": "code",
   "execution_count": 3,
   "id": "e769e197",
   "metadata": {},
   "outputs": [
    {
     "data": {
      "text/plain": [
       "['Q1.', 'Q2.', 'with', 'Q3.', 'Q4.', 'Q5.', 'Repetitions']"
      ]
     },
     "execution_count": 3,
     "metadata": {},
     "output_type": "execute_result"
    }
   ],
   "source": [
    "l=['Q1. Write a lambda expression to extract first word of a string. ',\n",
    "  'Q2. Write a function to extract first word of s string','with many words separated by space.',\n",
    "  'Q3. Extract the first word from every string from a list of strings by using map function.',\n",
    "  'Q4. Write a function to return a list of prime factors of a given number.',\n",
    "  'Q5. Write a function that finds 2nd largest among 4 numbers ','Repetitions are allowed,  without sorting.']\n",
    "list(map(splitter,l))"
   ]
  },
  {
   "cell_type": "markdown",
   "id": "9047feac",
   "metadata": {},
   "source": [
    "Q4. Write a function to return a list of prime factors of a given number."
   ]
  },
  {
   "cell_type": "code",
   "execution_count": 4,
   "id": "dec432f9",
   "metadata": {},
   "outputs": [
    {
     "data": {
      "text/plain": [
       "[3, 17, 59]"
      ]
     },
     "execution_count": 4,
     "metadata": {},
     "output_type": "execute_result"
    }
   ],
   "source": [
    "def prime_factors(n):\n",
    "    i = 2\n",
    "    factors = []\n",
    "    while i * i <= n:\n",
    "        if n % i:\n",
    "            i += 1\n",
    "        else:\n",
    "            n //= i\n",
    "            factors.append(i)\n",
    "    if n > 1:\n",
    "        factors.append(n)\n",
    "    return factors\n",
    "\n",
    "prime_factors(3009)"
   ]
  },
  {
   "cell_type": "markdown",
   "id": "3b395f43",
   "metadata": {},
   "source": [
    "Q5. Write a function that finds 2nd largest among 4 numbers (Repetitions are allowed,  without sorting)."
   ]
  },
  {
   "cell_type": "code",
   "execution_count": 5,
   "id": "f9310091",
   "metadata": {},
   "outputs": [
    {
     "name": "stdout",
     "output_type": "stream",
     "text": [
      "Enter elements: 15\n",
      "Enter elements: 6\n",
      "Enter elements: 8\n",
      "Enter elements: 8\n",
      "Original elements:  [15, 6, 8, 8]\n",
      "2nd largest among 4 numbers:  8\n"
     ]
    }
   ],
   "source": [
    "list1 = []\n",
    " \n",
    "# iterating to append 4 elements to list\n",
    "for i in range(1, 5):\n",
    "    ele = int(input(\"Enter elements: \"))\n",
    "    list1.append(ele)\n",
    "\n",
    "def second_largest(l):\n",
    "    new_list = set(l)\n",
    "    # removing the largest element from temp list\n",
    "    new_list.remove(max(new_list))\n",
    "    return max(new_list) #retruns second largest number\n",
    "\n",
    "print('Original elements: ',list1)\n",
    "\n",
    "print('2nd largest among 4 numbers: ',second_largest(list1))"
   ]
  }
 ],
 "metadata": {
  "kernelspec": {
   "display_name": "Python 3",
   "language": "python",
   "name": "python3"
  },
  "language_info": {
   "codemirror_mode": {
    "name": "ipython",
    "version": 3
   },
   "file_extension": ".py",
   "mimetype": "text/x-python",
   "name": "python",
   "nbconvert_exporter": "python",
   "pygments_lexer": "ipython3",
   "version": "3.8.8"
  }
 },
 "nbformat": 4,
 "nbformat_minor": 5
}
