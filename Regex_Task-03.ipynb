{
 "cells": [
  {
   "cell_type": "markdown",
   "id": "d104553c",
   "metadata": {},
   "source": [
    "# Assignment 3"
   ]
  },
  {
   "cell_type": "markdown",
   "id": "7e7da73f",
   "metadata": {},
   "source": [
    "## ID: SIRSS1040"
   ]
  },
  {
   "cell_type": "markdown",
   "id": "f448161a",
   "metadata": {},
   "source": [
    "### Name: Sailesh Nair"
   ]
  },
  {
   "cell_type": "markdown",
   "id": "cd76e5fb",
   "metadata": {},
   "source": [
    "Q1. Write a function to return nth term of Fibonacci sequence. "
   ]
  },
  {
   "cell_type": "code",
   "execution_count": 1,
   "id": "0e053f39",
   "metadata": {},
   "outputs": [
    {
     "name": "stdout",
     "output_type": "stream",
     "text": [
      "Which term of Fibonacci Series ? 9\n",
      "Term in 9 place of Fibonacci series is 21 \n"
     ]
    }
   ],
   "source": [
    "def fib(num):\n",
    "    if num==1:\n",
    "        return 0\n",
    "    elif num==2:\n",
    "        return 1\n",
    "    else:\n",
    "        return fib(num-1) + fib(num-2)\n",
    "n=int(input('Which term of Fibonacci Series ? '))\n",
    "print('Term in %d place of Fibonacci series is %d '%(n,fib(n)))"
   ]
  },
  {
   "cell_type": "markdown",
   "id": "0687322e",
   "metadata": {},
   "source": [
    "Q2. Write a function to find out GCD of two numbers using EUCLID'S algorithm."
   ]
  },
  {
   "cell_type": "code",
   "execution_count": 2,
   "id": "ff4a8dc7",
   "metadata": {},
   "outputs": [
    {
     "name": "stdout",
     "output_type": "stream",
     "text": [
      " Enter the first number: 144\n",
      " Enter the second number: 96\n",
      " The HCF of two number 144 and 96 is 48\n"
     ]
    }
   ],
   "source": [
    "def find_out_GCD(num1,num2):  \n",
    "    if num1 == 0 :\n",
    "        return num2\n",
    "    return find_out_GCD(num2%num1, num1) \n",
    "\n",
    "i = int(input (\" Enter the first number: \") ) # take first no.   \n",
    "j = int(input (\" Enter the second number: \")) # take second no.  \n",
    "print(\" The HCF of two number %d and %d is %d\"%(i,j,find_out_GCD(i,j)))  "
   ]
  },
  {
   "cell_type": "markdown",
   "id": "4e580302",
   "metadata": {},
   "source": [
    "Q3. Write a function to find LCM of two number in most optimizers way."
   ]
  },
  {
   "cell_type": "code",
   "execution_count": 3,
   "id": "e769e197",
   "metadata": {},
   "outputs": [
    {
     "name": "stdout",
     "output_type": "stream",
     "text": [
      " Enter the first number: 144\n",
      " Enter the second number: 96\n",
      " The LCM of two number 144 and 96 is 288\n"
     ]
    }
   ],
   "source": [
    "def find_lcm(num1,num2):\n",
    "   lcm = (num1*num2)//find_out_GCD(num1,num2)\n",
    "   return lcm\n",
    "\n",
    "i = int(input (\" Enter the first number: \") ) # take first no.   \n",
    "j = int(input (\" Enter the second number: \")) # take second no.  \n",
    "print(\" The LCM of two number %d and %d is %d\"%(i,j,find_lcm(i,j))) "
   ]
  },
  {
   "cell_type": "code",
   "execution_count": null,
   "id": "d6a11dd0",
   "metadata": {},
   "outputs": [],
   "source": []
  }
 ],
 "metadata": {
  "interpreter": {
   "hash": "b3ba2566441a7c06988d0923437866b63cedc61552a5af99d1f4fb67d367b25f"
  },
  "kernelspec": {
   "display_name": "Python 3",
   "language": "python",
   "name": "python3"
  },
  "language_info": {
   "codemirror_mode": {
    "name": "ipython",
    "version": 3
   },
   "file_extension": ".py",
   "mimetype": "text/x-python",
   "name": "python",
   "nbconvert_exporter": "python",
   "pygments_lexer": "ipython3",
   "version": "3.8.8"
  }
 },
 "nbformat": 4,
 "nbformat_minor": 5
}
